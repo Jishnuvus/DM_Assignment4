{
  "cells": [
    {
      "cell_type": "code",
      "execution_count": 23,
      "metadata": {
        "colab": {
          "base_uri": "https://localhost:8080/"
        },
        "id": "5xFbF7fGL_i5",
        "outputId": "007ec978-4148-4960-b3c2-3c45a98b8bc8"
      },
      "outputs": [
        {
          "output_type": "stream",
          "name": "stdout",
          "text": [
            "Drive already mounted at /content/gdrive; to attempt to forcibly remount, call drive.mount(\"/content/gdrive\", force_remount=True).\n"
          ]
        }
      ],
      "source": [
        "from google.colab import drive\n",
        "\n",
        "# Mount Google Drive\n",
        "drive.mount('/content/gdrive')\n"
      ]
    },
    {
      "cell_type": "code",
      "execution_count": 25,
      "metadata": {
        "id": "8ADdYZtzMPFO"
      },
      "outputs": [],
      "source": [
        "import torch\n",
        "import torch.nn as nn\n",
        "import torchvision.transforms as transforms\n",
        "from torchvision import models\n",
        "from torch.autograd import Variable\n",
        "from sklearn.cluster import KMeans, SpectralClustering, AgglomerativeClustering, DBSCAN, Birch\n",
        "from sklearn import metrics\n",
        "import matplotlib.pyplot as plt\n",
        "import os\n",
        "from PIL import Image\n",
        "import numpy as np\n",
        "\n",
        "import warnings\n",
        "warnings.filterwarnings(\"ignore\")"
      ]
    },
    {
      "cell_type": "code",
      "execution_count": 26,
      "metadata": {
        "id": "hTWhHnI9MPSw"
      },
      "outputs": [],
      "source": [
        "# Set the path to your dataset\n",
        "dataset_path = '/content/gdrive/MyDrive/DM1/Cropped'\n"
      ]
    },
    {
      "cell_type": "code",
      "execution_count": 27,
      "metadata": {
        "id": "Js9_Mg27SRWH"
      },
      "outputs": [],
      "source": [
        "# Function to extract features using ResNet18\n",
        "def extract_resnet_features(img_path):\n",
        "    resnet18 = models.resnet18(pretrained=True)\n",
        "    resnet18 = torch.nn.Sequential(*(list(resnet18.children())[:-1]))\n",
        "    resnet18.eval()\n",
        "\n",
        "    transform = transforms.Compose([\n",
        "        transforms.Resize((224, 224)),\n",
        "        transforms.ToTensor(),\n",
        "        transforms.Normalize(mean=[0.485, 0.456, 0.406], std=[0.229, 0.224, 0.225]),\n",
        "    ])\n",
        "\n",
        "    img = Image.open(img_path).convert('RGB')\n",
        "    img = transform(img)\n",
        "    img = Variable(img.unsqueeze(0))\n",
        "    # Register a forward hook to extract features from the last convolution layer\n",
        "    features = []\n",
        "\n",
        "    def hook(module, input, output):\n",
        "        features.extend(output.flatten().cpu().detach().numpy())\n",
        "\n",
        "    hook_handle = resnet18[-1].register_forward_hook(hook)\n",
        "\n",
        "    with torch.no_grad():\n",
        "        resnet18(img)\n",
        "\n",
        "    hook_handle.remove()\n",
        "\n",
        "    return features\n"
      ]
    },
    {
      "cell_type": "code",
      "execution_count": 28,
      "metadata": {
        "id": "kFLRFJQbSU-P"
      },
      "outputs": [],
      "source": [
        "# Extract features from all images in the dataset\n",
        "features_list = []\n",
        "labels = []\n",
        "\n",
        "for breed_folder in os.listdir(dataset_path):\n",
        "    breed_path = os.path.join(dataset_path, breed_folder)\n",
        "    for img_file in os.listdir(breed_path):\n",
        "        img_path = os.path.join(breed_path, img_file)\n",
        "        features = extract_resnet_features(img_path)\n",
        "        features_list.append(features)\n",
        "        labels.append(breed_folder)"
      ]
    },
    {
      "cell_type": "code",
      "execution_count": 29,
      "metadata": {
        "id": "ZWP4nkYFT3DM"
      },
      "outputs": [],
      "source": [
        "# Convert lists to numpy arrays\n",
        "features_array = np.array(features_list)\n",
        "labels_array = np.array(labels)\n"
      ]
    },
    {
      "cell_type": "code",
      "execution_count": 30,
      "metadata": {
        "id": "_PjAQ3jIbv3y"
      },
      "outputs": [],
      "source": [
        "# Perform dimensionality reduction\n",
        "from sklearn.decomposition import PCA\n",
        "\n",
        "pca = PCA(n_components=2)\n",
        "reduced_features = pca.fit_transform(features_array)\n"
      ]
    },
    {
      "cell_type": "code",
      "execution_count": 31,
      "metadata": {
        "id": "Nozfi-qub0Rf"
      },
      "outputs": [],
      "source": [
        "# Perform clustering using different algorithms\n",
        "kmeans_random = KMeans(n_clusters=4, init='random').fit(reduced_features)\n",
        "kmeans_kmeanspp = KMeans(n_clusters=4, init='k-means++').fit(reduced_features)\n",
        "bisecting_kmeans = KMeans(n_clusters=2,  init='random', n_init=1).fit(reduced_features)\n",
        "spectral_clustering = SpectralClustering(n_clusters=4).fit(reduced_features)\n",
        "dbscan = DBSCAN(eps=0.5, min_samples=5).fit(reduced_features)\n",
        "agglomerative_single = AgglomerativeClustering(n_clusters=4, linkage='single').fit(reduced_features)\n",
        "agglomerative_complete = AgglomerativeClustering(n_clusters=4, linkage='complete').fit(reduced_features)\n",
        "agglomerative_average = AgglomerativeClustering(n_clusters=4, linkage='average').fit(reduced_features)\n",
        "agglomerative_ward = AgglomerativeClustering(n_clusters=4, linkage='ward').fit(reduced_features)\n"
      ]
    },
    {
      "cell_type": "code",
      "execution_count": 32,
      "metadata": {
        "id": "EltWAWubb4QQ"
      },
      "outputs": [],
      "source": [
        "# Evaluate clustering performance\n",
        "def evaluate_clustering_performance(true_labels, predicted_labels):\n",
        "    fowlkes_mallows = metrics.fowlkes_mallows_score(true_labels, predicted_labels)\n",
        "    silhouette_coefficient = metrics.silhouette_score(reduced_features, predicted_labels)\n",
        "\n",
        "    return fowlkes_mallows, silhouette_coefficient"
      ]
    },
    {
      "cell_type": "code",
      "execution_count": 33,
      "metadata": {
        "id": "KHuvK7bdb7NZ"
      },
      "outputs": [],
      "source": [
        "# Ground truth labels\n",
        "true_labels = labels_array\n"
      ]
    },
    {
      "cell_type": "code",
      "execution_count": 34,
      "metadata": {
        "id": "9JpQFGQHcAkg"
      },
      "outputs": [],
      "source": [
        "# Predicted labels from different clustering algorithms\n",
        "predicted_labels_kmeans_random = kmeans_random.labels_\n",
        "predicted_labels_kmeans_kmeanspp = kmeans_kmeanspp.labels_\n",
        "predicted_labels_bisecting_kmeans = bisecting_kmeans.labels_\n",
        "predicted_labels_spectral_clustering = spectral_clustering.labels_\n",
        "predicted_labels_dbscan = dbscan.labels_\n",
        "predicted_labels_agglomerative_single = agglomerative_single.labels_\n",
        "predicted_labels_agglomerative_complete = agglomerative_complete.labels_\n",
        "predicted_labels_agglomerative_average = agglomerative_average.labels_\n",
        "predicted_labels_agglomerative_ward = agglomerative_ward.labels_\n"
      ]
    },
    {
      "cell_type": "code",
      "execution_count": 35,
      "metadata": {
        "id": "k_QcjzKrcAYM"
      },
      "outputs": [],
      "source": [
        " #Evaluate clustering performance\n",
        "fowlkes_mallows_kmeans_random, silhouette_coefficient_kmeans_random = evaluate_clustering_performance(true_labels, predicted_labels_kmeans_random)\n",
        "fowlkes_mallows_kmeans_kmeanspp, silhouette_coefficient_kmeans_kmeanspp = evaluate_clustering_performance(true_labels, predicted_labels_kmeans_kmeanspp)\n",
        "fowlkes_mallows_bisecting_kmeans, silhouette_coefficient_bisecting_kmeans = evaluate_clustering_performance(true_labels, predicted_labels_bisecting_kmeans)\n",
        "fowlkes_mallows_spectral_clustering, silhouette_coefficient_spectral_clustering = evaluate_clustering_performance(true_labels, predicted_labels_spectral_clustering)\n",
        "fowlkes_mallows_dbscan, silhouette_coefficient_dbscan = evaluate_clustering_performance(true_labels, predicted_labels_dbscan)\n",
        "fowlkes_mallows_agglomerative_single, silhouette_coefficient_agglomerative_single = evaluate_clustering_performance(true_labels, predicted_labels_agglomerative_single)\n",
        "fowlkes_mallows_agglomerative_complete, silhouette_coefficient_agglomerative_complete = evaluate_clustering_performance(true_labels, predicted_labels_agglomerative_complete)\n",
        "fowlkes_mallows_agglomerative_average, silhouette_coefficient_agglomerative_average = evaluate_clustering_performance(true_labels, predicted_labels_agglomerative_average)\n",
        "fowlkes_mallows_agglomerative_ward, silhouette_coefficient_agglomerative_ward = evaluate_clustering_performance(true_labels, predicted_labels_agglomerative_ward)\n"
      ]
    },
    {
      "cell_type": "code",
      "execution_count": 36,
      "metadata": {
        "colab": {
          "base_uri": "https://localhost:8080/"
        },
        "id": "EBz1tc_BcJjj",
        "outputId": "5d51e093-4869-4c87-efda-c865af345fb8"
      },
      "outputs": [
        {
          "output_type": "stream",
          "name": "stdout",
          "text": [
            "Fowlkes-Mallows Index:\n",
            "KMeans (Random): 0.9724254389704909\n",
            "KMeans (KMeans++): 0.9724254389704909\n",
            "Bisecting KMeans: 0.6746151620238616\n",
            "Spectral Clustering: 0.9762187170672412\n",
            "DBSCAN: 0.5193180432481675\n",
            "Agglomerative (Single Link): 0.5065662011209293\n",
            "Agglomerative (Complete Link): 0.8728545961057501\n",
            "Agglomerative (Group Average): 0.9595080441340221\n",
            "Agglomerative (Ward): 0.972517881179286\n",
            "\n",
            "Silhouette Coefficient:\n",
            "KMeans (Random): 0.7113756537437439\n",
            "KMeans (KMeans++): 0.7113756537437439\n",
            "Bisecting KMeans: 0.45057952404022217\n",
            "Spectral Clustering: 0.7105127573013306\n",
            "DBSCAN: -0.12113341689109802\n",
            "Agglomerative (Single Link): -0.33494991064071655\n",
            "Agglomerative (Complete Link): 0.6016430258750916\n",
            "Agglomerative (Group Average): 0.7076421976089478\n",
            "Agglomerative (Ward): 0.7059998512268066\n"
          ]
        }
      ],
      "source": [
        "# Print the results\n",
        "print(\"Fowlkes-Mallows Index:\")\n",
        "print(f\"KMeans (Random): {fowlkes_mallows_kmeans_random}\")\n",
        "print(f\"KMeans (KMeans++): {fowlkes_mallows_kmeans_kmeanspp}\")\n",
        "print(f\"Bisecting KMeans: {fowlkes_mallows_bisecting_kmeans}\")\n",
        "print(f\"Spectral Clustering: {fowlkes_mallows_spectral_clustering}\")\n",
        "print(f\"DBSCAN: {fowlkes_mallows_dbscan}\")\n",
        "print(f\"Agglomerative (Single Link): {fowlkes_mallows_agglomerative_single}\")\n",
        "print(f\"Agglomerative (Complete Link): {fowlkes_mallows_agglomerative_complete}\")\n",
        "print(f\"Agglomerative (Group Average): {fowlkes_mallows_agglomerative_average}\")\n",
        "print(f\"Agglomerative (Ward): {fowlkes_mallows_agglomerative_ward}\")\n",
        "\n",
        "print(\"\\nSilhouette Coefficient:\")\n",
        "print(f\"KMeans (Random): {silhouette_coefficient_kmeans_random}\")\n",
        "print(f\"KMeans (KMeans++): {silhouette_coefficient_kmeans_kmeanspp}\")\n",
        "print(f\"Bisecting KMeans: {silhouette_coefficient_bisecting_kmeans}\")\n",
        "print(f\"Spectral Clustering: {silhouette_coefficient_spectral_clustering}\")\n",
        "print(f\"DBSCAN: {silhouette_coefficient_dbscan}\")\n",
        "print(f\"Agglomerative (Single Link): {silhouette_coefficient_agglomerative_single}\")\n",
        "print(f\"Agglomerative (Complete Link): {silhouette_coefficient_agglomerative_complete}\")\n",
        "print(f\"Agglomerative (Group Average): {silhouette_coefficient_agglomerative_average}\")\n",
        "print(f\"Agglomerative (Ward): {silhouette_coefficient_agglomerative_ward}\")"
      ]
    },
    {
      "cell_type": "code",
      "execution_count": 37,
      "metadata": {
        "colab": {
          "base_uri": "https://localhost:8080/"
        },
        "id": "pdY_fQYvfKsU",
        "outputId": "5fbbccc8-3f8f-4aa7-ab01-1e650f8b0f41"
      },
      "outputs": [
        {
          "output_type": "stream",
          "name": "stdout",
          "text": [
            "Fowlkes-Mallows Index:\n",
            "Bisecting KMeans: 0.6746151620238616\n",
            "\n",
            "Silhouette Coefficient:\n",
            "Bisecting KMeans: 0.45057952404022217\n",
            "\n",
            "Results for KMeans (Random):\n",
            "Fowlkes-Mallows Index: 0.9724254389704909\n",
            "Silhouette Coefficient: 0.7113756537437439\n",
            "\n",
            "Results for KMeans (KMeans++):\n",
            "Fowlkes-Mallows Index: 0.9724254389704909\n",
            "Silhouette Coefficient: 0.7113756537437439\n",
            "\n",
            "Results for Bisecting KMeans:\n",
            "Fowlkes-Mallows Index: 0.6394037215005239\n",
            "Silhouette Coefficient: 0.42217496037483215\n",
            "\n",
            "Results for Spectral Clustering:\n",
            "Fowlkes-Mallows Index: 0.9762187170672412\n",
            "Silhouette Coefficient: 0.7105127573013306\n",
            "\n",
            "Results for DBSCAN:\n",
            "Fowlkes-Mallows Index: 0.5193180432481675\n",
            "Silhouette Coefficient: -0.12113341689109802\n",
            "\n",
            "Results for Agglomerative (Single Link):\n",
            "Fowlkes-Mallows Index: 0.5065662011209293\n",
            "Silhouette Coefficient: -0.33494991064071655\n",
            "\n",
            "Results for Agglomerative (Complete Link):\n",
            "Fowlkes-Mallows Index: 0.8728545961057501\n",
            "Silhouette Coefficient: 0.6016430258750916\n",
            "\n",
            "Results for Agglomerative (Group Average):\n",
            "Fowlkes-Mallows Index: 0.9595080441340221\n",
            "Silhouette Coefficient: 0.7076421976089478\n",
            "\n",
            "Results for Agglomerative (Ward):\n",
            "Fowlkes-Mallows Index: 0.972517881179286\n",
            "Silhouette Coefficient: 0.7059998512268066\n",
            "\n",
            "Ranking based on Fowlkes-Mallows Index:\n",
            "1. Spectral Clustering\n",
            "2. Agglomerative (Ward)\n",
            "3. KMeans (KMeans++)\n",
            "4. KMeans (Random)\n",
            "5. Agglomerative (Group Average)\n",
            "6. Agglomerative (Complete Link)\n",
            "7. Bisecting KMeans\n",
            "8. DBSCAN\n",
            "9. Agglomerative (Single Link)\n",
            "\n",
            "Ranking based on Silhouette Coefficient:\n",
            "1. KMeans (KMeans++)\n",
            "2. KMeans (Random)\n",
            "3. Spectral Clustering\n",
            "4. Agglomerative (Group Average)\n",
            "5. Agglomerative (Ward)\n",
            "6. Agglomerative (Complete Link)\n",
            "7. Bisecting KMeans\n",
            "8. DBSCAN\n",
            "9. Agglomerative (Single Link)\n"
          ]
        }
      ],
      "source": [
        "# Predicted labels\n",
        "predicted_labels_bisecting_kmeans = bisecting_kmeans.labels_\n",
        "\n",
        "# Evaluate clustering performance\n",
        "fowlkes_mallows_bisecting_kmeans, silhouette_coefficient_bisecting_kmeans = evaluate_clustering_performance(true_labels, predicted_labels_bisecting_kmeans)\n",
        "\n",
        "# Print the results\n",
        "print(\"Fowlkes-Mallows Index:\")\n",
        "print(f\"Bisecting KMeans: {fowlkes_mallows_bisecting_kmeans}\")\n",
        "\n",
        "print(\"\\nSilhouette Coefficient:\")\n",
        "print(f\"Bisecting KMeans: {silhouette_coefficient_bisecting_kmeans}\")\n",
        "\n",
        "# Perform clustering evaluation and ranking for all methods\n",
        "methods = [\n",
        "    (\"KMeans (Random)\", KMeans(n_clusters=4, init='random')),\n",
        "    (\"KMeans (KMeans++)\", KMeans(n_clusters=4, init='k-means++')),\n",
        "    (\"Bisecting KMeans\", KMeans(n_clusters=2, init='random', n_init=1)),\n",
        "    (\"Spectral Clustering\", SpectralClustering(n_clusters=4)),\n",
        "    (\"DBSCAN\", DBSCAN(eps=0.5, min_samples=5)),\n",
        "    (\"Agglomerative (Single Link)\", AgglomerativeClustering(n_clusters=4, linkage='single')),\n",
        "    (\"Agglomerative (Complete Link)\", AgglomerativeClustering(n_clusters=4, linkage='complete')),\n",
        "    (\"Agglomerative (Group Average)\", AgglomerativeClustering(n_clusters=4, linkage='average')),\n",
        "    (\"Agglomerative (Ward)\", AgglomerativeClustering(n_clusters=4, linkage='ward'))\n",
        "]\n",
        "\n",
        "fowlkes_mallows_scores = []\n",
        "silhouette_coefficient_scores = []\n",
        "\n",
        "for method_name, method in methods:\n",
        "    predicted_labels = method.fit_predict(reduced_features)\n",
        "\n",
        "    # Evaluate clustering performance\n",
        "    fowlkes_mallows, silhouette_coefficient = evaluate_clustering_performance(true_labels, predicted_labels)\n",
        "    fowlkes_mallows_scores.append(fowlkes_mallows)\n",
        "    silhouette_coefficient_scores.append(silhouette_coefficient)\n",
        "\n",
        "    # Print the results for each method\n",
        "    print(f\"\\nResults for {method_name}:\")\n",
        "    print(f\"Fowlkes-Mallows Index: {fowlkes_mallows}\")\n",
        "    print(f\"Silhouette Coefficient: {silhouette_coefficient}\")\n",
        "\n",
        "# Rank the methods based on Fowlkes-Mallows Index\n",
        "fowlkes_mallows_ranking = np.argsort(fowlkes_mallows_scores)[::-1]\n",
        "\n",
        "# Rank the methods based on Silhouette Coefficient\n",
        "silhouette_coefficient_ranking = np.argsort(silhouette_coefficient_scores)[::-1]\n",
        "\n",
        "print(\"\\nRanking based on Fowlkes-Mallows Index:\")\n",
        "for rank, idx in enumerate(fowlkes_mallows_ranking):\n",
        "    print(f\"{rank+1}. {methods[idx][0]}\")\n",
        "\n",
        "print(\"\\nRanking based on Silhouette Coefficient:\")\n",
        "for rank, idx in enumerate(silhouette_coefficient_ranking):\n",
        "    print(f\"{rank+1}. {methods[idx][0]}\")"
      ]
    },
    {
      "cell_type": "markdown",
      "source": [
        "**References:**\n",
        "\n",
        "Dabbura, I. (2022, September 27). K-means Clustering: Algorithm, Applications, Evaluation Methods, and Drawbacks. Medium. https://towardsdatascience.com/k-means-clustering-algorithm-applications-evaluation-methods-and-drawbacks-aa03e644b48a\n",
        "\n",
        "Manna, S. (2021, January 6). Extracting Features from an Intermediate Layer of a Pretrained ResNet Model in PyTorch (Hard Way). Medium. https://medium.com/the-owl/extracting-features-from-an-intermediate-layer-of-a-pretrained-model-in-pytorch-c00589bda32b\n",
        "\n",
        "Sharma, A. (2020, September 7). How to Master the Popular DBSCAN Clustering Algorithm for Machine Learning. Analytics Vidhya. https://www.analyticsvidhya.com/blog/2020/09/how-dbscan-clustering-works/\n",
        "\n",
        "sklearn.cluster.AgglomerativeClustering. (n.d.). Scikit-learn. https://scikit-learn/stable/modules/generated/sklearn.cluster.AgglomerativeClustering.html"
      ],
      "metadata": {
        "id": "dAqgDM3jG35k"
      }
    },
    {
      "cell_type": "code",
      "source": [],
      "metadata": {
        "id": "_aywFB40G55c"
      },
      "execution_count": null,
      "outputs": []
    }
  ],
  "metadata": {
    "colab": {
      "provenance": []
    },
    "kernelspec": {
      "display_name": "Python 3 (ipykernel)",
      "language": "python",
      "name": "python3"
    },
    "language_info": {
      "codemirror_mode": {
        "name": "ipython",
        "version": 3
      },
      "file_extension": ".py",
      "mimetype": "text/x-python",
      "name": "python",
      "nbconvert_exporter": "python",
      "pygments_lexer": "ipython3",
      "version": "3.11.5"
    }
  },
  "nbformat": 4,
  "nbformat_minor": 0
}